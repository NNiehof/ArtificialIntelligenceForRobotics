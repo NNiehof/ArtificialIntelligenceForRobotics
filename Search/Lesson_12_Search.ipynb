{
 "nbformat": 4,
 "nbformat_minor": 2,
 "metadata": {
  "language_info": {
   "name": "python",
   "codemirror_mode": {
    "name": "ipython",
    "version": 3
   },
   "version": "3.7.4-final"
  },
  "orig_nbformat": 2,
  "file_extension": ".py",
  "mimetype": "text/x-python",
  "name": "python",
  "npconvert_exporter": "python",
  "pygments_lexer": "ipython3",
  "version": 3,
  "kernelspec": {
   "name": "python37464bitbaseconda84eb7c7a47694627a96982950cc84b04",
   "display_name": "Python 3.7.4 64-bit ('base': conda)"
  }
 },
 "cells": [
  {
   "cell_type": "markdown",
   "metadata": {},
   "source": [
    "# Search - path planning"
   ]
  },
  {
   "cell_type": "markdown",
   "metadata": {},
   "source": [
    "## First search\n",
    "1. Start with a grid with a start position S and goal position G.\n",
    "2. Expand from S into all directions that are available (not blocked off).\n",
    "3. Keep track of the path length for each cell (g-value).\n",
    "4. Find the cell with the current shortest path length and expand from there."
   ]
  },
  {
   "cell_type": "code",
   "execution_count": 1,
   "metadata": {},
   "outputs": [],
   "source": [
    "import numpy as np"
   ]
  },
  {
   "cell_type": "code",
   "execution_count": 7,
   "metadata": {},
   "outputs": [],
   "source": [
    "# ----------\n",
    "#\n",
    "# Define a function, search() that returns a list\n",
    "# in the form of [optimal path length, row, col]. For\n",
    "# the grid shown below, your function should output\n",
    "# [11, 4, 5].\n",
    "#\n",
    "# If there is no valid path from the start point\n",
    "# to the goal, your function should return the string\n",
    "# 'fail'\n",
    "# ----------\n",
    "\n",
    "# Grid format:\n",
    "#   0 = Navigable space\n",
    "#   1 = Occupied space\n",
    "\n",
    "\n",
    "grid = [[0, 0, 1, 0, 0, 0],\n",
    "        [0, 0, 1, 0, 0, 0],\n",
    "        [0, 0, 0, 0, 1, 0],\n",
    "        [0, 0, 1, 1, 1, 0],\n",
    "        [0, 0, 0, 0, 1, 0]]\n",
    "init = [0, 0]\n",
    "goal = [len(grid)-1, len(grid[0])-1]\n",
    "cost = 1\n",
    "\n",
    "delta = [[-1, 0], # go up\n",
    "        [ 0,-1], # go left\n",
    "        [ 1, 0], # go down\n",
    "        [ 0, 1]] # go right\n",
    "\n",
    "delta_name = ['^', '<', 'v', '>']"
   ]
  },
  {
   "cell_type": "code",
   "execution_count": 12,
   "metadata": {},
   "outputs": [],
   "source": [
    "def search(grid, init, goal, cost, path_length=None, verbose=False):\n",
    "    if init == goal:\n",
    "        return ([int(path_length[goal[0], goal[1]]), init[0], init[1]])\n",
    "\n",
    "    if not isinstance(grid, np.ndarray):\n",
    "        grid = np.array(grid)\n",
    "    else:\n",
    "        grid = grid.copy()\n",
    "\n",
    "    delta = np.array([\n",
    "        [-1, 0], # go up\n",
    "        [ 0,-1], # go left\n",
    "        [ 1, 0], # go down\n",
    "        [ 0, 1] # go right\n",
    "        ])\n",
    "\n",
    "    # path_length: initialise as nan\n",
    "    if path_length is None:\n",
    "        path_length = np.zeros(grid.shape)\n",
    "        path_length[:, :] = np.nan\n",
    "        # add initial cell with path length 0\n",
    "        path_length[init[0], init[1]] = 0\n",
    "\n",
    "    # mark off the current cell\n",
    "    grid[init[0], init[1]] = 1\n",
    "\n",
    "    # check whether neighbouring cells are unmarked (untraveled)\n",
    "    for d in delta:\n",
    "        index = init - d\n",
    "        try:\n",
    "            # ignore negative indices\n",
    "            if any(index < 0):\n",
    "                continue\n",
    "\n",
    "            cell = grid[index[0], index[1]]\n",
    "        except(IndexError):\n",
    "            # ignore out of bounds indices\n",
    "            continue\n",
    "\n",
    "        # if cell is unmarked, update the path cost\n",
    "        if cell == 0:\n",
    "            path_length[index[0], index[1]] = path_length[init[0], init[1]] + cost\n",
    "\n",
    "    try:\n",
    "        # find the next cell: unmarked cell with lowest cost\n",
    "        unmarked = np.nonzero(grid == 0)\n",
    "        lowest_cost = np.nonzero(path_length[unmarked] == np.nanmin(path_length[unmarked]))\n",
    "        # next cell\n",
    "        init = [unmarked[0][lowest_cost][0], unmarked[1][lowest_cost][0]]\n",
    "    except:\n",
    "        return \"fail\"\n",
    "\n",
    "    if verbose:\n",
    "        print(f\"GRID:\\n{grid}\")\n",
    "        print(f\"PATH COST:\\n{path_length}\")\n",
    "\n",
    "    # run the next iteration with the new cell\n",
    "    return search(grid, init, goal, cost, path_length=path_length, verbose=verbose)\n",
    ""
   ]
  },
  {
   "cell_type": "code",
   "execution_count": 13,
   "metadata": {},
   "outputs": [
    {
     "output_type": "stream",
     "name": "stdout",
     "text": "GRID:\n[[1 0 1 0 0 0]\n [0 0 1 0 0 0]\n [0 0 0 0 1 0]\n [0 0 1 1 1 0]\n [0 0 0 0 1 0]]\nPATH COST:\n[[ 0.  1. nan nan nan nan]\n [ 1. nan nan nan nan nan]\n [nan nan nan nan nan nan]\n [nan nan nan nan nan nan]\n [nan nan nan nan nan nan]]\nGRID:\n[[1 1 1 0 0 0]\n [0 0 1 0 0 0]\n [0 0 0 0 1 0]\n [0 0 1 1 1 0]\n [0 0 0 0 1 0]]\nPATH COST:\n[[ 0.  1. nan nan nan nan]\n [ 1.  2. nan nan nan nan]\n [nan nan nan nan nan nan]\n [nan nan nan nan nan nan]\n [nan nan nan nan nan nan]]\nGRID:\n[[1 1 1 0 0 0]\n [1 0 1 0 0 0]\n [0 0 0 0 1 0]\n [0 0 1 1 1 0]\n [0 0 0 0 1 0]]\nPATH COST:\n[[ 0.  1. nan nan nan nan]\n [ 1.  2. nan nan nan nan]\n [ 2. nan nan nan nan nan]\n [nan nan nan nan nan nan]\n [nan nan nan nan nan nan]]\nGRID:\n[[1 1 1 0 0 0]\n [1 1 1 0 0 0]\n [0 0 0 0 1 0]\n [0 0 1 1 1 0]\n [0 0 0 0 1 0]]\nPATH COST:\n[[ 0.  1. nan nan nan nan]\n [ 1.  2. nan nan nan nan]\n [ 2.  3. nan nan nan nan]\n [nan nan nan nan nan nan]\n [nan nan nan nan nan nan]]\nGRID:\n[[1 1 1 0 0 0]\n [1 1 1 0 0 0]\n [1 0 0 0 1 0]\n [0 0 1 1 1 0]\n [0 0 0 0 1 0]]\nPATH COST:\n[[ 0.  1. nan nan nan nan]\n [ 1.  2. nan nan nan nan]\n [ 2.  3. nan nan nan nan]\n [ 3. nan nan nan nan nan]\n [nan nan nan nan nan nan]]\nGRID:\n[[1 1 1 0 0 0]\n [1 1 1 0 0 0]\n [1 1 0 0 1 0]\n [0 0 1 1 1 0]\n [0 0 0 0 1 0]]\nPATH COST:\n[[ 0.  1. nan nan nan nan]\n [ 1.  2. nan nan nan nan]\n [ 2.  3.  4. nan nan nan]\n [ 3.  4. nan nan nan nan]\n [nan nan nan nan nan nan]]\nGRID:\n[[1 1 1 0 0 0]\n [1 1 1 0 0 0]\n [1 1 0 0 1 0]\n [1 0 1 1 1 0]\n [0 0 0 0 1 0]]\nPATH COST:\n[[ 0.  1. nan nan nan nan]\n [ 1.  2. nan nan nan nan]\n [ 2.  3.  4. nan nan nan]\n [ 3.  4. nan nan nan nan]\n [ 4. nan nan nan nan nan]]\nGRID:\n[[1 1 1 0 0 0]\n [1 1 1 0 0 0]\n [1 1 1 0 1 0]\n [1 0 1 1 1 0]\n [0 0 0 0 1 0]]\nPATH COST:\n[[ 0.  1. nan nan nan nan]\n [ 1.  2. nan nan nan nan]\n [ 2.  3.  4.  5. nan nan]\n [ 3.  4. nan nan nan nan]\n [ 4. nan nan nan nan nan]]\nGRID:\n[[1 1 1 0 0 0]\n [1 1 1 0 0 0]\n [1 1 1 0 1 0]\n [1 1 1 1 1 0]\n [0 0 0 0 1 0]]\nPATH COST:\n[[ 0.  1. nan nan nan nan]\n [ 1.  2. nan nan nan nan]\n [ 2.  3.  4.  5. nan nan]\n [ 3.  4. nan nan nan nan]\n [ 4.  5. nan nan nan nan]]\nGRID:\n[[1 1 1 0 0 0]\n [1 1 1 0 0 0]\n [1 1 1 0 1 0]\n [1 1 1 1 1 0]\n [1 0 0 0 1 0]]\nPATH COST:\n[[ 0.  1. nan nan nan nan]\n [ 1.  2. nan nan nan nan]\n [ 2.  3.  4.  5. nan nan]\n [ 3.  4. nan nan nan nan]\n [ 4.  5. nan nan nan nan]]\nGRID:\n[[1 1 1 0 0 0]\n [1 1 1 0 0 0]\n [1 1 1 1 1 0]\n [1 1 1 1 1 0]\n [1 0 0 0 1 0]]\nPATH COST:\n[[ 0.  1. nan nan nan nan]\n [ 1.  2. nan  6. nan nan]\n [ 2.  3.  4.  5. nan nan]\n [ 3.  4. nan nan nan nan]\n [ 4.  5. nan nan nan nan]]\nGRID:\n[[1 1 1 0 0 0]\n [1 1 1 0 0 0]\n [1 1 1 1 1 0]\n [1 1 1 1 1 0]\n [1 1 0 0 1 0]]\nPATH COST:\n[[ 0.  1. nan nan nan nan]\n [ 1.  2. nan  6. nan nan]\n [ 2.  3.  4.  5. nan nan]\n [ 3.  4. nan nan nan nan]\n [ 4.  5.  6. nan nan nan]]\nGRID:\n[[1 1 1 0 0 0]\n [1 1 1 1 0 0]\n [1 1 1 1 1 0]\n [1 1 1 1 1 0]\n [1 1 0 0 1 0]]\nPATH COST:\n[[ 0.  1. nan  7. nan nan]\n [ 1.  2. nan  6.  7. nan]\n [ 2.  3.  4.  5. nan nan]\n [ 3.  4. nan nan nan nan]\n [ 4.  5.  6. nan nan nan]]\nGRID:\n[[1 1 1 0 0 0]\n [1 1 1 1 0 0]\n [1 1 1 1 1 0]\n [1 1 1 1 1 0]\n [1 1 1 0 1 0]]\nPATH COST:\n[[ 0.  1. nan  7. nan nan]\n [ 1.  2. nan  6.  7. nan]\n [ 2.  3.  4.  5. nan nan]\n [ 3.  4. nan nan nan nan]\n [ 4.  5.  6.  7. nan nan]]\nGRID:\n[[1 1 1 1 0 0]\n [1 1 1 1 0 0]\n [1 1 1 1 1 0]\n [1 1 1 1 1 0]\n [1 1 1 0 1 0]]\nPATH COST:\n[[ 0.  1. nan  7.  8. nan]\n [ 1.  2. nan  6.  7. nan]\n [ 2.  3.  4.  5. nan nan]\n [ 3.  4. nan nan nan nan]\n [ 4.  5.  6.  7. nan nan]]\nGRID:\n[[1 1 1 1 0 0]\n [1 1 1 1 1 0]\n [1 1 1 1 1 0]\n [1 1 1 1 1 0]\n [1 1 1 0 1 0]]\nPATH COST:\n[[ 0.  1. nan  7.  8. nan]\n [ 1.  2. nan  6.  7.  8.]\n [ 2.  3.  4.  5. nan nan]\n [ 3.  4. nan nan nan nan]\n [ 4.  5.  6.  7. nan nan]]\nGRID:\n[[1 1 1 1 0 0]\n [1 1 1 1 1 0]\n [1 1 1 1 1 0]\n [1 1 1 1 1 0]\n [1 1 1 1 1 0]]\nPATH COST:\n[[ 0.  1. nan  7.  8. nan]\n [ 1.  2. nan  6.  7.  8.]\n [ 2.  3.  4.  5. nan nan]\n [ 3.  4. nan nan nan nan]\n [ 4.  5.  6.  7. nan nan]]\nGRID:\n[[1 1 1 1 1 0]\n [1 1 1 1 1 0]\n [1 1 1 1 1 0]\n [1 1 1 1 1 0]\n [1 1 1 1 1 0]]\nPATH COST:\n[[ 0.  1. nan  7.  8.  9.]\n [ 1.  2. nan  6.  7.  8.]\n [ 2.  3.  4.  5. nan nan]\n [ 3.  4. nan nan nan nan]\n [ 4.  5.  6.  7. nan nan]]\nGRID:\n[[1 1 1 1 1 0]\n [1 1 1 1 1 1]\n [1 1 1 1 1 0]\n [1 1 1 1 1 0]\n [1 1 1 1 1 0]]\nPATH COST:\n[[ 0.  1. nan  7.  8.  9.]\n [ 1.  2. nan  6.  7.  8.]\n [ 2.  3.  4.  5. nan  9.]\n [ 3.  4. nan nan nan nan]\n [ 4.  5.  6.  7. nan nan]]\nGRID:\n[[1 1 1 1 1 1]\n [1 1 1 1 1 1]\n [1 1 1 1 1 0]\n [1 1 1 1 1 0]\n [1 1 1 1 1 0]]\nPATH COST:\n[[ 0.  1. nan  7.  8.  9.]\n [ 1.  2. nan  6.  7.  8.]\n [ 2.  3.  4.  5. nan  9.]\n [ 3.  4. nan nan nan nan]\n [ 4.  5.  6.  7. nan nan]]\nGRID:\n[[1 1 1 1 1 1]\n [1 1 1 1 1 1]\n [1 1 1 1 1 1]\n [1 1 1 1 1 0]\n [1 1 1 1 1 0]]\nPATH COST:\n[[ 0.  1. nan  7.  8.  9.]\n [ 1.  2. nan  6.  7.  8.]\n [ 2.  3.  4.  5. nan  9.]\n [ 3.  4. nan nan nan 10.]\n [ 4.  5.  6.  7. nan nan]]\nGRID:\n[[1 1 1 1 1 1]\n [1 1 1 1 1 1]\n [1 1 1 1 1 1]\n [1 1 1 1 1 1]\n [1 1 1 1 1 0]]\nPATH COST:\n[[ 0.  1. nan  7.  8.  9.]\n [ 1.  2. nan  6.  7.  8.]\n [ 2.  3.  4.  5. nan  9.]\n [ 3.  4. nan nan nan 10.]\n [ 4.  5.  6.  7. nan 11.]]\n"
    }
   ],
   "source": [
    "out = search(grid, init, goal, cost, verbose=True)"
   ]
  },
  {
   "cell_type": "code",
   "execution_count": 10,
   "metadata": {},
   "outputs": [
    {
     "output_type": "execute_result",
     "data": {
      "text/plain": "[11, 4, 5]"
     },
     "metadata": {},
     "execution_count": 10
    }
   ],
   "source": [
    "out"
   ]
  },
  {
   "cell_type": "markdown",
   "metadata": {},
   "source": [
    "## Expansion grid"
   ]
  },
  {
   "cell_type": "code",
   "execution_count": null,
   "metadata": {},
   "outputs": [],
   "source": []
  }
 ]
}