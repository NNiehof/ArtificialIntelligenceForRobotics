{
 "nbformat": 4,
 "nbformat_minor": 2,
 "metadata": {
  "language_info": {
   "name": "python",
   "codemirror_mode": {
    "name": "ipython",
    "version": 3
   },
   "version": "3.7.4-final"
  },
  "orig_nbformat": 2,
  "file_extension": ".py",
  "mimetype": "text/x-python",
  "name": "python",
  "npconvert_exporter": "python",
  "pygments_lexer": "ipython3",
  "version": 3,
  "kernelspec": {
   "name": "python37464bitbaseconda84eb7c7a47694627a96982950cc84b04",
   "display_name": "Python 3.7.4 64-bit ('base': conda)"
  }
 },
 "cells": [
  {
   "cell_type": "markdown",
   "metadata": {},
   "source": [
    "# Localisation"
   ]
  },
  {
   "cell_type": "code",
   "execution_count": 1,
   "metadata": {},
   "outputs": [],
   "source": [
    "import numpy as np"
   ]
  },
  {
   "cell_type": "markdown",
   "metadata": {},
   "source": [
    "## Sense function"
   ]
  },
  {
   "cell_type": "code",
   "execution_count": 2,
   "metadata": {},
   "outputs": [
    {
     "output_type": "stream",
     "name": "stdout",
     "text": "[0.1111111111111111, 0.3333333333333332, 0.3333333333333332, 0.1111111111111111, 0.1111111111111111]\n"
    }
   ],
   "source": [
    "p=[0.2, 0.2, 0.2, 0.2, 0.2]\n",
    "world=['green', 'red', 'red', 'green', 'green']\n",
    "Z = 'red'\n",
    "pHit = 0.6\n",
    "pMiss = 0.2\n",
    "\n",
    "def sense(p, Z):\n",
    "    # booleans\n",
    "    hits = [Z == x for x in world]\n",
    "\n",
    "    # posterior probability\n",
    "    q = [prob * (hit * pHit + (1 - hit) * pMiss) for hit, prob in zip(hits, p)]\n",
    "\n",
    "    # normalised posterior\n",
    "    sum_q = sum(q)\n",
    "    q_norm = [val / sum_q for val in q]\n",
    "    return q_norm\n",
    "\n",
    "print(sense(p, Z))"
   ]
  },
  {
   "cell_type": "markdown",
   "metadata": {},
   "source": [
    "## Move function"
   ]
  },
  {
   "cell_type": "code",
   "execution_count": 3,
   "metadata": {},
   "outputs": [
    {
     "output_type": "stream",
     "name": "stdout",
     "text": "[0, 0, 1, 0, 0]\n"
    }
   ],
   "source": [
    "p=[0, 1, 0, 0, 0]\n",
    "world=['green', 'red', 'red', 'green', 'green']\n",
    "measurements = ['red', 'green']\n",
    "pHit = 0.6\n",
    "pMiss = 0.2\n",
    "\n",
    "def move(p, U):\n",
    "    # modulo after division: the part of the vector that wraps around\n",
    "    U = U % len(p)\n",
    "\n",
    "    # move p by U and wrap around\n",
    "    q = p[-U:] + p[:-U]\n",
    "    return q\n",
    "\n",
    "print(move(p, 1))"
   ]
  },
  {
   "cell_type": "markdown",
   "metadata": {},
   "source": [
    "## Inexact move function"
   ]
  },
  {
   "cell_type": "markdown",
   "metadata": {},
   "source": [
    "### Version with numpy\n",
    "Yes, I know Numpy has a convolution function, this is for practice."
   ]
  },
  {
   "cell_type": "code",
   "execution_count": 4,
   "metadata": {},
   "outputs": [],
   "source": [
    "p=[0, 1, 0, 0, 0]\n",
    "world=['green', 'red', 'red', 'green', 'green']\n",
    "measurements = ['red', 'green']\n",
    "pHit = 0.6\n",
    "pMiss = 0.2\n",
    "pExact = 0.8\n",
    "pOvershoot = 0.1\n",
    "pUndershoot = 0.1\n",
    "H = [pUndershoot, pExact, pOvershoot]\n",
    "\n",
    "\n",
    "def convolve(x, h):\n",
    "    \"\"\"\n",
    "    Convolution of two signals x and h:\n",
    "    y[n] = conv(x[n], h[n]) = Sigma x[k] * h[n - k]\n",
    "    where k starts from (- length of h + 1) and continues\n",
    "    till (length of h + length of x - 1). Thus, k goes\n",
    "    between the points where signals x and h just overlap.\n",
    "    \"\"\"\n",
    "    x = np.array(x)\n",
    "    h = np.array(h)\n",
    "\n",
    "    # position index k\n",
    "    k_start = -len(h) + 1\n",
    "    k_end = len(h) + len(x) # no - 1 because python indexing is exclusive\n",
    "    k = np.arange(k_start, k_end)\n",
    "    \n",
    "    # zero-padding for x signal\n",
    "    x_start = np.where(k == 0)[0][0]\n",
    "    x_end = x_start + len(x)\n",
    "    x_padded = np.zeros(len(k))\n",
    "    x_padded[x_start:x_end] = x\n",
    "    \n",
    "    # zero-padding for h signal\n",
    "    h_padded = np.zeros(len(k))\n",
    "    h_padded[0:len(h)] = h[::-1]\n",
    "\n",
    "    # convolve: sum of pointwise multiplication\n",
    "    y = []\n",
    "    h = list(h_padded)\n",
    "    for n in range(0, max(k)):\n",
    "        # modulo: wrap around the h vector by u\n",
    "        u = n % max(k)\n",
    "        # shift h vector by n and wrap around\n",
    "        h_shifted = h[-u:] + h[:-u]\n",
    "\n",
    "        # sum of the impulse responses\n",
    "        y.append(sum(x_padded * h_shifted))\n",
    "    \n",
    "    return y\n",
    ""
   ]
  },
  {
   "cell_type": "code",
   "execution_count": 5,
   "metadata": {},
   "outputs": [],
   "source": [
    "def move(p, U, H):\n",
    "    \"\"\"\n",
    "    Move location vector p by U steps with\n",
    "    movement probability distribution H.\n",
    "    \"\"\"\n",
    "    if U < 0:\n",
    "        movement = range(-1, (U - 1), -1)\n",
    "    else:\n",
    "        movement = range(U)\n",
    "\n",
    "    for move in movement:\n",
    "        # move p by U and wrap around\n",
    "        p_shifted = p[-move:] + p[:-move]\n",
    "\n",
    "        # convolve prior p_shifted and the movement probabilities H\n",
    "        y = convolve(p_shifted, H)\n",
    "\n",
    "        # slice q at the size of p\n",
    "        q = y[0:len(p)]\n",
    "        # surplus values from convolution\n",
    "        surplus = y[len(p):]\n",
    "\n",
    "        # wrap around\n",
    "        for ind in range(len(surplus)):\n",
    "            q[ind] += surplus[ind]\n",
    "\n",
    "    return q"
   ]
  },
  {
   "cell_type": "code",
   "execution_count": 6,
   "metadata": {},
   "outputs": [
    {
     "output_type": "stream",
     "name": "stdout",
     "text": "[0.0, 0.1, 0.8, 0.1, 0.0]\n"
    }
   ],
   "source": [
    "print(move(p, 1, H))"
   ]
  },
  {
   "cell_type": "markdown",
   "metadata": {},
   "source": [
    "### Version without numpy"
   ]
  },
  {
   "cell_type": "code",
   "execution_count": 7,
   "metadata": {},
   "outputs": [],
   "source": [
    "p=[0, 1, 0, 0, 0]\n",
    "world=['green', 'red', 'red', 'green', 'green']\n",
    "measurements = ['red', 'green']\n",
    "pHit = 0.6\n",
    "pMiss = 0.2\n",
    "pExact = 0.8\n",
    "pOvershoot = 0.1\n",
    "pUndershoot = 0.1\n",
    "H = [pUndershoot, pExact, pOvershoot]\n",
    "\n",
    "\n",
    "def convolve(x, h):\n",
    "    \"\"\"\n",
    "    Convolution of two signals x and h:\n",
    "    y[n] = conv(x[n], h[n]) = Sigma x[k] * h[n - k]\n",
    "    where k starts from (- length of h + 1) and continues\n",
    "    till (length of h + length of x - 1). Thus, k goes\n",
    "    between the points where signals x and h just overlap.\n",
    "    \"\"\"\n",
    "    # position index k\n",
    "    k_start = -len(h) + 1\n",
    "    k_end = len(h) + len(x) # no - 1 because python indexing is exclusive\n",
    "    k = range(k_start, k_end)\n",
    "    \n",
    "    # zero-padding for x signal\n",
    "    x_start = [ind for ind, k_val in enumerate(k) if k_val == 0][0]\n",
    "    x_end = x_start + len(x)\n",
    "    x_padded = [0] * len(k)\n",
    "    x_padded[x_start:x_end] = x\n",
    "    \n",
    "    # zero-padding for h signal\n",
    "    h_padded = [0] * len(k)\n",
    "    h_padded[0:len(h)] = h[::-1]\n",
    "\n",
    "    # convolve: sum of pointwise multiplication\n",
    "    y = []\n",
    "    for n in range(0, max(k)):\n",
    "        # modulo: wrap around the h vector by u\n",
    "        u = n % max(k)\n",
    "        # shift h vector by n and wrap around\n",
    "        h_shifted = h_padded[-u:] + h_padded[:-u]\n",
    "\n",
    "        # sum of the impulse responses\n",
    "        impulse_response = [x_val * h_val for x_val, h_val in zip(x_padded, h_shifted)]\n",
    "        y.append(sum(impulse_response))\n",
    "    \n",
    "    return y\n",
    ""
   ]
  },
  {
   "cell_type": "code",
   "execution_count": 8,
   "metadata": {},
   "outputs": [
    {
     "output_type": "stream",
     "name": "stdout",
     "text": "[0.0, 0.1, 0.8, 0.1, 0.0]\n"
    }
   ],
   "source": [
    "print(move(p, 1, H))"
   ]
  },
  {
   "cell_type": "code",
   "execution_count": 9,
   "metadata": {},
   "outputs": [
    {
     "output_type": "stream",
     "name": "stdout",
     "text": "[0.010000000000000002, 0.010000000000000002, 0.16000000000000003, 0.6600000000000001, 0.16000000000000003]\n"
    }
   ],
   "source": [
    "# Move twice\n",
    "p=[0, 1, 0, 0, 0]\n",
    "p = move(p, 1, H)\n",
    "print(move(p, 1, H))"
   ]
  },
  {
   "cell_type": "code",
   "execution_count": 10,
   "metadata": {},
   "outputs": [
    {
     "output_type": "stream",
     "name": "stdout",
     "text": "[0.20000000000000365, 0.20000000000000373, 0.20000000000000365, 0.2000000000000035, 0.2000000000000035]\n"
    }
   ],
   "source": [
    "# Move 1000 times\n",
    "p=[0, 1, 0, 0, 0]\n",
    "for ind in range(1000):\n",
    "    p = move(p, 1, H)\n",
    "print(p)"
   ]
  },
  {
   "cell_type": "markdown",
   "metadata": {},
   "source": [
    "## Sense and move"
   ]
  },
  {
   "cell_type": "code",
   "execution_count": 11,
   "metadata": {},
   "outputs": [
    {
     "output_type": "stream",
     "name": "stdout",
     "text": "[0.21157894736842106, 0.1515789473684211, 0.08105263157894739, 0.16842105263157897, 0.38736842105263164]\n"
    }
   ],
   "source": [
    "p=[0.2, 0.2, 0.2, 0.2, 0.2]\n",
    "world=['green', 'red', 'red', 'green', 'green']\n",
    "measurements = ['red', 'green']\n",
    "motions = [1,1]\n",
    "\n",
    "def sense_move(p, measurements, motions, H):\n",
    "    \"\"\"\n",
    "    Sense and move loop for a robot.\n",
    "    :param p: probability distribution for robot location.\n",
    "    :param measurements: (array) measurements from the robot's sensors.\n",
    "    :param motions: (array) robot motions.\n",
    "    :param H: (array) system response to motion uncertainty (probability distribution).\n",
    "    \"\"\"\n",
    "    for ind in range(max([len(measurements), len(motions)])):\n",
    "        # sense if there is a measurement\n",
    "        try:\n",
    "            p = sense(p, measurements[ind])\n",
    "        except IndexError:\n",
    "            pass\n",
    "        \n",
    "        # move if there is a motion\n",
    "        try:\n",
    "            p = move(p, motions[ind], H)\n",
    "        except IndexError:\n",
    "            pass\n",
    "\n",
    "    return p\n",
    "    \n",
    "p = sense_move(p, measurements, motions, H)\n",
    "print(p)"
   ]
  },
  {
   "cell_type": "markdown",
   "metadata": {},
   "source": [
    "## Bayes' rule\n",
    "\n",
    "X = location\n",
    "Z = measurement\n",
    "\n",
    "P(X_i | Z) = P(Z | X_i) P(X_i) / P(Z)\n",
    "\n",
    "Non-normalised posterior:  \n",
    "p~(X_i | Z) = P(Z | X_i) P(X_i)  \n",
    "Normaliser alpha:  \n",
    "a = Sigma p~(X_i | Z)  \n",
    "Normalised posterior:\n",
    "P(X_i | Z) = 1/a p~(X_i | Z)"
   ]
  },
  {
   "cell_type": "markdown",
   "metadata": {},
   "source": [
    "## Cancer test"
   ]
  },
  {
   "cell_type": "code",
   "execution_count": 12,
   "metadata": {},
   "outputs": [
    {
     "output_type": "stream",
     "name": "stdout",
     "text": "[0.00794439 0.99205561]\n"
    }
   ],
   "source": [
    "p_cancer = 0.001    # prior of cancer\n",
    "p_not_cancer = 0.999    # prior of not cancer\n",
    "p_pos_cancer = 0.8  # p hit\n",
    "p_pos_not_cancer = 0.1     # p false alarm\n",
    "\n",
    "likelihood = np.array([p_pos_cancer, p_pos_not_cancer])\n",
    "prior = np.array([p_cancer, p_not_cancer])\n",
    "\n",
    "posterior_non_norm = likelihood * prior\n",
    "\n",
    "normaliser = sum(posterior_non_norm)\n",
    "\n",
    "posterior = 1 / normaliser * posterior_non_norm\n",
    "\n",
    "print(posterior)"
   ]
  },
  {
   "cell_type": "markdown",
   "metadata": {},
   "source": [
    "## Two coins quiz"
   ]
  },
  {
   "cell_type": "code",
   "execution_count": 13,
   "metadata": {},
   "outputs": [
    {
     "output_type": "stream",
     "name": "stdout",
     "text": "0.8333333333333334\n"
    }
   ],
   "source": [
    "# take coin with 50% chance of fair coin\n",
    "# flip it\n",
    "# observation: heads\n",
    "# Q: What is the P(fair | heads) ?\n",
    "\n",
    "p_heads_fair = 0.5  # fair coin\n",
    "p_heads_loaded = 0.1    # loaded coin\n",
    "p_fair = 0.5\n",
    "p_loaded = 0.5\n",
    "\n",
    "likelihood = np.array([p_heads_fair, p_heads_loaded])\n",
    "prior = np.array([p_fair, p_loaded])\n",
    "\n",
    "posterior_non_norm = likelihood * prior\n",
    "\n",
    "normaliser = sum(posterior_non_norm)\n",
    "\n",
    "posterior = 1 / normaliser * posterior_non_norm\n",
    "p_fair_heads = posterior[0]\n",
    "\n",
    "print(p_fair_heads)"
   ]
  },
  {
   "cell_type": "code",
   "execution_count": null,
   "metadata": {},
   "outputs": [],
   "source": []
  }
 ]
}